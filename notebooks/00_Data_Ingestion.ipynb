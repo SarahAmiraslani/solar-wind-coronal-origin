{
 "cells": [
  {
   "cell_type": "markdown",
   "metadata": {
    "datalore": {
     "hide_input_from_viewers": false,
     "hide_output_from_viewers": false,
     "node_id": "ACE_Import",
     "sheet_delimiter": true,
     "type": "MD"
    }
   },
   "source": [
    "# Data Ingestion "
   ]
  },
  {
   "cell_type": "markdown",
   "metadata": {
    "datalore": {
     "hide_input_from_viewers": true,
     "hide_output_from_viewers": true,
     "node_id": "aJRPlC0hEhs6WyspIWM3vu",
     "type": "MD"
    }
   },
   "source": [
    "This notebook aggregates the near-real-time **1-hour averaged data** from\n",
    "[solarsoft](https://sohoftp.nascom.nasa.gov/sdb/goes/ace/monthly/). Real time\n",
    "solar wind data is captured from the `MAG`, `SWEPAM`, `EPAM`, and `SIS` instruments. Additionally ACE aircraft location data is pulled. Note that `SWICS` instrument data is not available on this server and so take another approach to pull this data for modeling. "
   ]
  },
  {
   "cell_type": "markdown",
   "metadata": {},
   "source": [
    "## Imports and Configuration"
   ]
  },
  {
   "cell_type": "code",
   "execution_count": null,
   "metadata": {},
   "outputs": [],
   "source": [
    "# standard library\n",
    "import logging\n",
    "import warnings\n",
    "warnings.filterwarnings(\"ignore\")\n",
    "\n",
    "# third party\n",
    "from bs4 import BeautifulSoup\n",
    "from datetime import date\n",
    "import numpy as np\n",
    "import pandas as pd\n",
    "import requests\n",
    "from tqdm import tqdm"
   ]
  },
  {
   "cell_type": "code",
   "execution_count": null,
   "metadata": {},
   "outputs": [],
   "source": [
    "# Set up logging\n",
    "logging.basicConfig(\n",
    "    level=logging.INFO, format=\"%(asctime)s - %(levelname)s - %(message)s\"\n",
    ")"
   ]
  },
  {
   "cell_type": "markdown",
   "metadata": {},
   "source": [
    "## Prepare for Data Ingestion \n",
    "One hour aggregate ACE instrument measurements are publically accessible on NASA servers and are organize by year-month by [The Solar and Heliospheric Observatory (SOHO) Project Scientist Team](https://sohoftp.nascom.nasa.gov/). We will scrape the txt file format and store the data in pandas DataFrames. \n",
    "\n",
    "### Get URLs for all data files\n",
    "We grab all the links on https://sohoftp.nascom.nasa.gov/sdb/goes/ace/monthly/ which contain a numeric digit as their first character as the ACE hourly aggregates are structured as `YYYYMM_ace_<instrument>_1h.txt` where `<instrument>` is replaced with `epam`, `sis`, `mag`, `loc`, or `swepam`. "
   ]
  },
  {
   "cell_type": "code",
   "execution_count": null,
   "metadata": {},
   "outputs": [],
   "source": [
    "ROOT_URL = \"https://sohoftp.nascom.nasa.gov/sdb/goes/ace/monthly/\"\n",
    "\n",
    "try:\n",
    "    r = requests.get(ROOT_URL)\n",
    "    r.raise_for_status()\n",
    "    data = r.text\n",
    "    soup = BeautifulSoup(data, \"html.parser\")\n",
    "\n",
    "    file_list = [\n",
    "        ROOT_URL + link.get(\"href\")\n",
    "        for link in soup.find_all(\"a\")\n",
    "        if link.get(\"href\")[0].isdigit() # data txt file\n",
    "    ]\n",
    "\n",
    "except requests.exceptions.RequestException as e:\n",
    "    print(f\"An error occurred: {e}\")\n",
    "\n",
    "# display completion\n",
    "print(f\"{len(file_list)} files found\")\n",
    "sorted_files = sorted(file_list)\n",
    "print(\n",
    "    \"Data from\",\n",
    "    sorted_files[0].split(\"/\")[-1][:4],\n",
    "    \"to\",\n",
    "    sorted_files[-1].split(\"/\")[-1][:4],\n",
    ")"
   ]
  },
  {
   "cell_type": "markdown",
   "metadata": {},
   "source": [
    "## Read and Process Data Files\n",
    "Now that we have the URLs for hourly aggregates of our ACE instruments and satelite location from 2000 to 2024, we can read this data into pandas dataframes per instrument. "
   ]
  },
  {
   "cell_type": "code",
   "execution_count": null,
   "metadata": {},
   "outputs": [],
   "source": [
    "# Creating Dataframe for each sensor\n",
    "epam_df = pd.DataFrame(\n",
    "    columns=[\n",
    "        \"Year\",\n",
    "        \"Month\",\n",
    "        \"Day\",\n",
    "        \"HHMM\",\n",
    "        \"Julian_Day\",\n",
    "        \"Seconds_OTD\",\n",
    "        \"Status_E\",\n",
    "        \"E_38-53\",\n",
    "        \"E_175-315\",\n",
    "        \"Status_P\",\n",
    "        \"P_47-65\",\n",
    "        \"P_112-187\",\n",
    "        \"P_310-580\",\n",
    "        \"P_761-1220\",\n",
    "        \"P_1060-1910\",\n",
    "        \"Anis_Index\",\n",
    "    ]\n",
    ")\n",
    "loc_df = pd.DataFrame(\n",
    "    columns=[\"Year\", \"Month\", \"Day\", \"HHMM\", \"Julian_Day\", \"Seconds_OTD\", \"X\", \"Y\", \"Z\"]\n",
    ")\n",
    "mag_df = pd.DataFrame(\n",
    "    columns=[\n",
    "        \"Year\",\n",
    "        \"Month\",\n",
    "        \"Day\",\n",
    "        \"HHMM\",\n",
    "        \"Julian_Day\",\n",
    "        \"Seconds_OTD\",\n",
    "        \"Status_Mag\",\n",
    "        \"Bx\",\n",
    "        \"By\",\n",
    "        \"Bz\",\n",
    "        \"Bt\",\n",
    "        \"Lat\",\n",
    "        \"Long\",\n",
    "    ]\n",
    ")\n",
    "sis_df = pd.DataFrame(\n",
    "    columns=[\n",
    "        \"Year\",\n",
    "        \"Month\",\n",
    "        \"Day\",\n",
    "        \"HHMM\",\n",
    "        \"Julian_Day\",\n",
    "        \"Seconds_OTD\",\n",
    "        \"Status_PF_Low\",\n",
    "        \">10_MeV\",\n",
    "        \"Status_PF_High\",\n",
    "        \">30_MeV\",\n",
    "    ]\n",
    ")\n",
    "swepam_df = pd.DataFrame(\n",
    "    columns=[\n",
    "        \"Year\",\n",
    "        \"Month\",\n",
    "        \"Day\",\n",
    "        \"HHMM\",\n",
    "        \"Julian_Day\",\n",
    "        \"Seconds_OTD\",\n",
    "        \"Status_SW\",\n",
    "        \"Proton_Density\",\n",
    "        \"Bulk_Speed\",\n",
    "        \"Ion_Temp\",\n",
    "    ]\n",
    ")"
   ]
  },
  {
   "cell_type": "code",
   "execution_count": null,
   "metadata": {},
   "outputs": [],
   "source": [
    "# Define the DataFrames and their corresponding columns\n",
    "dataframes = {\n",
    "    \"_epam\": {\"df\": epam_df, \"columns\": epam_df.columns},\n",
    "    \"loc\": {\"df\": loc_df, \"columns\": loc_df.columns},\n",
    "    \"mag\": {\"df\": mag_df, \"columns\": mag_df.columns},\n",
    "    \"sis\": {\"df\": sis_df, \"columns\": sis_df.columns},\n",
    "    \"_swepam\": {\"df\": swepam_df, \"columns\": swepam_df.columns},\n",
    "}\n",
    "\n",
    "# Pulling data from solarsoft to dataframe\n",
    "for link in tqdm(file_list, desc=\"Importing files\"):\n",
    "    data = pd.read_csv(link, comment=\"#\", sep=\"\\s+\", header=None, skiprows=2)\n",
    "    for key, value in dataframes.items():\n",
    "        if key in link:\n",
    "            data.columns = value[\"columns\"]\n",
    "            value[\"df\"] = pd.concat([value[\"df\"], data], ignore_index=True)\n",
    "            break"
   ]
  },
  {
   "cell_type": "markdown",
   "metadata": {},
   "source": [
    "## Write local copies for future use"
   ]
  },
  {
   "cell_type": "code",
   "execution_count": null,
   "metadata": {
    "datalore": {
     "hide_input_from_viewers": true,
     "hide_output_from_viewers": true,
     "node_id": "SM5F9562N7F8dtqFsqY9MH",
     "type": "CODE"
    }
   },
   "outputs": [],
   "source": [
    "# Saving dataframes as csv files\n",
    "dataframes = [epam_df, loc_df, mag_df, sis_df, swepam_df]\n",
    "file_names = [\"epam\", \"loc\", \"mag\", \"sis\", \"swepam\"]\n",
    "\n",
    "for df, name in zip(dataframes, file_names):\n",
    "    file_path = f\"../data/ace/raw/{date.today()}_ace_master_{name}_1hr.csv\"\n",
    "    df.to_csv(file_path, index=False)"
   ]
  }
 ],
 "metadata": {
  "datalore": {
   "base_environment": "default",
   "computation_mode": "JUPYTER",
   "package_manager": "pip",
   "packages": [],
   "report_row_ids": [],
   "version": 3
  },
  "kernelspec": {
   "display_name": "Python 3 (ipykernel)",
   "language": "python",
   "name": "python3"
  },
  "language_info": {
   "codemirror_mode": {
    "name": "ipython",
    "version": 3
   },
   "file_extension": ".py",
   "mimetype": "text/x-python",
   "name": "python",
   "nbconvert_exporter": "python",
   "pygments_lexer": "ipython3",
   "version": "3.10.10"
  }
 },
 "nbformat": 4,
 "nbformat_minor": 4
}
