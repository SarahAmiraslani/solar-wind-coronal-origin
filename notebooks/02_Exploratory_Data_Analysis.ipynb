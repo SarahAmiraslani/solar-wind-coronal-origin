{
 "cells": [
  {
   "cell_type": "markdown",
   "metadata": {
    "datalore": {
     "hide_input_from_viewers": true,
     "hide_output_from_viewers": true,
     "node_id": "7GZU2SaqggG3hFHt7pcfEQ",
     "type": "MD"
    }
   },
   "source": [
    "# Exploratory Data Analysis of ACE Satellite Mission Data"
   ]
  },
  {
   "cell_type": "markdown",
   "metadata": {
    "tags": []
   },
   "source": [
    "## Imports and Configuration"
   ]
  },
  {
   "cell_type": "code",
   "execution_count": 3,
   "metadata": {
    "datalore": {
     "hide_input_from_viewers": true,
     "hide_output_from_viewers": true,
     "node_id": "C8luWyIvZdLokALu21FIZ9",
     "type": "CODE"
    }
   },
   "outputs": [
    {
     "ename": "ModuleNotFoundError",
     "evalue": "No module named 'lets_plot'",
     "output_type": "error",
     "traceback": [
      "\u001b[0;31m---------------------------------------------------------------------------\u001b[0m",
      "\u001b[0;31mModuleNotFoundError\u001b[0m                       Traceback (most recent call last)",
      "Input \u001b[0;32mIn [3]\u001b[0m, in \u001b[0;36m<cell line: 7>\u001b[0;34m()\u001b[0m\n\u001b[1;32m      5\u001b[0m \u001b[38;5;28;01mfrom\u001b[39;00m \u001b[38;5;21;01mdatetime\u001b[39;00m \u001b[38;5;28;01mimport\u001b[39;00m date\n\u001b[1;32m      6\u001b[0m \u001b[38;5;28;01mfrom\u001b[39;00m \u001b[38;5;21;01msklearn\u001b[39;00m\u001b[38;5;21;01m.\u001b[39;00m\u001b[38;5;21;01mimpute\u001b[39;00m \u001b[38;5;28;01mimport\u001b[39;00m KNNImputer\n\u001b[0;32m----> 7\u001b[0m \u001b[38;5;28;01mfrom\u001b[39;00m \u001b[38;5;21;01mlets_plot\u001b[39;00m \u001b[38;5;28;01mimport\u001b[39;00m \u001b[38;5;241m*\u001b[39m\n",
      "\u001b[0;31mModuleNotFoundError\u001b[0m: No module named 'lets_plot'"
     ]
    }
   ],
   "source": [
    "import pandas as pd\n",
    "import matplotlib.pyplot as plt\n",
    "import numpy as np\n",
    "import seaborn as sns\n",
    "from datetime import date\n",
    "from sklearn.impute import KNNImputer\n",
    "from lets_plot import *"
   ]
  },
  {
   "cell_type": "code",
   "execution_count": null,
   "metadata": {
    "datalore": {
     "hide_input_from_viewers": true,
     "hide_output_from_viewers": true,
     "node_id": "EwkJSxML9assaxO0Uco78V",
     "type": "CODE"
    }
   },
   "outputs": [],
   "source": [
    "# Set Seaborn style and color palette\n",
    "sns.set_style(\"darkgrid\")\n",
    "sns.set_palette(\"Pastel1\")"
   ]
  },
  {
   "cell_type": "markdown",
   "metadata": {
    "jp-MarkdownHeadingCollapsed": true,
    "tags": []
   },
   "source": [
    "## Read Data"
   ]
  },
  {
   "cell_type": "code",
   "execution_count": null,
   "metadata": {},
   "outputs": [],
   "source": []
  },
  {
   "cell_type": "markdown",
   "metadata": {
    "datalore": {
     "hide_input_from_viewers": true,
     "hide_output_from_viewers": true,
     "node_id": "ORf7K7AqKFLA7Pvb6f5PK9",
     "type": "MD"
    },
    "jp-MarkdownHeadingCollapsed": true,
    "tags": []
   },
   "source": [
    "## ACE Exploration"
   ]
  },
  {
   "cell_type": "code",
   "execution_count": null,
   "metadata": {
    "datalore": {
     "hide_input_from_viewers": true,
     "hide_output_from_viewers": true,
     "node_id": "UcxYXdR1jI9cQGiVLZV3sH",
     "type": "CODE"
    }
   },
   "outputs": [],
   "source": [
    "print(f\"Shape: {master_clean.shape}\")\n",
    "master_clean.info()"
   ]
  },
  {
   "cell_type": "code",
   "execution_count": null,
   "metadata": {
    "datalore": {
     "hide_input_from_viewers": true,
     "hide_output_from_viewers": true,
     "node_id": "rcg1a3u3JXePXbaAYiYpzb",
     "type": "CODE"
    }
   },
   "outputs": [],
   "source": [
    "# investigate missing values\n",
    "print(master_clean.isna().sum())"
   ]
  },
  {
   "cell_type": "code",
   "execution_count": null,
   "metadata": {
    "datalore": {
     "hide_input_from_viewers": true,
     "hide_output_from_viewers": true,
     "node_id": "jW9txIzUWG6ZHkFq6o2f6F",
     "type": "CODE"
    }
   },
   "outputs": [],
   "source": [
    "\n",
    "(\n",
    "    ggplot()\n",
    "    + geom_bar(\n",
    "        aes(x=\"timestamp\", y=\"Anis_Index\"),\n",
    "        data=master_clean,\n",
    "        sampling=\"none\",\n",
    "        color=\"#1100FF\",\n",
    "        fill=\"#1100FF\",\n",
    "        stat=\"identity\",\n",
    "    )\n",
    "    + ggtitle(\"Anisotropy Index (August 2000 - Present)\")\n",
    "    + scale_y_continuous()\n",
    ")"
   ]
  },
  {
   "cell_type": "markdown",
   "metadata": {
    "datalore": {
     "hide_input_from_viewers": true,
     "hide_output_from_viewers": true,
     "node_id": "pO1FSsHobUZusg8vjUcLdd",
     "type": "MD"
    }
   },
   "source": [
    "Anisotropy index is no longer calculated after October 2011 (indicated as\n",
    "missing value -1.00 in SWPC README file about the data). This feature will be\n",
    "dropped due to missing data for over half of the observations. The magnitude of\n",
    "missing data values were not highlighted in first data cleaning process since\n",
    "the Anisotropy Index does not have a Status Index to indicate bad data like the\n",
    "other features in the data set.\n"
   ]
  },
  {
   "cell_type": "code",
   "execution_count": null,
   "metadata": {
    "datalore": {
     "hide_input_from_viewers": true,
     "hide_output_from_viewers": true,
     "node_id": "GZAazIkRTcaIQQGjCjcarp",
     "type": "CODE"
    }
   },
   "outputs": [],
   "source": [
    "# Dropping Anis_Index Feature\n",
    "master_clean = master_clean.drop(columns=[\"Anis_Index\"])"
   ]
  },
  {
   "cell_type": "code",
   "execution_count": null,
   "metadata": {
    "datalore": {
     "hide_input_from_viewers": true,
     "hide_output_from_viewers": true,
     "node_id": "GVA0VndbSqLbJskJuPAoQv",
     "type": "CODE"
    }
   },
   "outputs": [],
   "source": [
    "# proportion of dataset that contains unique values\n",
    "(master_clean.nunique() / len(master_clean) * 100).sort_values(ascending=False)"
   ]
  },
  {
   "cell_type": "code",
   "execution_count": null,
   "metadata": {
    "datalore": {
     "hide_input_from_viewers": true,
     "hide_output_from_viewers": true,
     "node_id": "sXagC7NWxTMaWs1T5otyCH",
     "type": "CODE"
    }
   },
   "outputs": [],
   "source": [
    "master_clean.describe()"
   ]
  },
  {
   "cell_type": "markdown",
   "metadata": {
    "datalore": {
     "hide_input_from_viewers": true,
     "hide_output_from_viewers": true,
     "node_id": "EPiEAuDYXkWtH8d6RsdX6t",
     "type": "MD"
    }
   },
   "source": [
    "### Univariate Analysis\n"
   ]
  },
  {
   "cell_type": "code",
   "execution_count": null,
   "metadata": {
    "datalore": {
     "hide_input_from_viewers": true,
     "hide_output_from_viewers": true,
     "node_id": "k8HNs5xmFEnZuVvW2sAHZR",
     "type": "CODE"
    }
   },
   "outputs": [],
   "source": [
    "# Identify numerical columns\n",
    "ACE_NUMERICAL_COLUMNS = master_clean.select_dtypes(include=[\"int64\", \"float64\"]).columns"
   ]
  },
  {
   "cell_type": "code",
   "execution_count": null,
   "metadata": {
    "datalore": {
     "hide_input_from_viewers": true,
     "hide_output_from_viewers": true,
     "node_id": "1VsEBDOr677Jpy1gSDKUPB",
     "type": "CODE"
    }
   },
   "outputs": [],
   "source": [
    "# Plot distribution of each numerical feature\n",
    "fig = plt.figure(figsize=(14, len(ACE_NUMERICAL_COLUMNS) * 3))\n",
    "for idx, feature in enumerate(np.sort(ACE_NUMERICAL_COLUMNS), 1):\n",
    "    plt.subplot(len(ACE_NUMERICAL_COLUMNS), 2, idx)\n",
    "    sns.histplot(master_clean[feature], kde=True, bins=50, color=\"skyblue\")\n",
    "\n",
    "    # Add lines for mean and median\n",
    "    plt.axvline(master_clean[feature].mean(),\n",
    "                color=\"r\", linestyle=\"--\", label=\"Mean\")\n",
    "    plt.axvline(\n",
    "        master_clean[feature].median(), color=\"g\", linestyle=\"-\", label=\"Median\"\n",
    "    )\n",
    "\n",
    "    plt.title(\n",
    "        f\"{feature} | Skewness: {round(master_clean[feature].skew(), 2)}\")\n",
    "    plt.legend()  # Add a legend\n",
    "\n",
    "# Adjust layout and show plots\n",
    "plt.tight_layout()\n",
    "fig.suptitle(\n",
    "    \"Distribution of ACE numerical features\", fontsize=20, weight=\"bold\", y=1.02\n",
    ")\n",
    "plt.show()"
   ]
  },
  {
   "cell_type": "markdown",
   "metadata": {
    "datalore": {
     "hide_input_from_viewers": true,
     "hide_output_from_viewers": true,
     "node_id": "u0XpSC4h3Gtqqti6a6RWmR",
     "type": "MD"
    }
   },
   "source": [
    "### Bivariate Analysis\n"
   ]
  },
  {
   "cell_type": "code",
   "execution_count": null,
   "metadata": {
    "datalore": {
     "hide_input_from_viewers": true,
     "hide_output_from_viewers": true,
     "node_id": "cyhpHTEn6AjmCm5mE8lGII",
     "type": "CODE"
    }
   },
   "outputs": [],
   "source": [
    "plt.figure(figsize=(10, 6))\n",
    "\n",
    "# Using Seaborn to create a pair plot with the specified color palette\n",
    "sns.pairplot(master_clean[ACE_NUMERICAL_COLUMNS], corner=True, diag_kind=\"kde\")\n",
    "\n",
    "plt.title(\"Pair Plot for DataFrame\")\n",
    "plt.show()"
   ]
  },
  {
   "cell_type": "code",
   "execution_count": null,
   "metadata": {
    "datalore": {
     "hide_input_from_viewers": true,
     "hide_output_from_viewers": true,
     "node_id": "wFDWFvnBbb6IwvxVJyomRb",
     "type": "CODE"
    }
   },
   "outputs": [],
   "source": [
    "# Assuming 'df' is your DataFrame\n",
    "plt.figure(figsize=(15, 10))\n",
    "\n",
    "# Using Seaborn to create a heatmap\n",
    "sns.heatmap(\n",
    "    master_clean[ACE_NUMERICAL_COLUMNS].corr(),\n",
    "    annot=True,\n",
    "    fmt=\".2f\",\n",
    "    cmap=\"Pastel2\",\n",
    "    linewidths=2,\n",
    ")\n",
    "\n",
    "plt.title(\"ACE Data Correlation Heatmap\")\n",
    "plt.show()"
   ]
  },
  {
   "cell_type": "markdown",
   "metadata": {
    "datalore": {
     "hide_input_from_viewers": true,
     "hide_output_from_viewers": true,
     "node_id": "o3hrgCBT4EfnPhgV0cAufd",
     "type": "MD"
    }
   },
   "source": [
    "Based on the correlation matrix, the following patterns were noted:\n",
    "\n",
    "- Integral Proton Flux (`>10MeV` vs > `30 MeV`)\n",
    "  - May only need one proton flux variable to include in algorithm training due to high positive correlation (0.95) if the proton flux is high at `>10MeV` it is highly likely it will also be high for the integral calculated at `>30MeV`.\n",
    "- GSM Coordinates (`Bx`, `By`, `Bz`, `Bt`, `Long`, `Lat`)\n",
    "  - In an attempt to reduce including confounding variables in algorithm, we may not need Longitude and Latitude coordinates as it relates to the position of activity located from Earth, while the \"B\" variables explicitly describe the amplitude and direction of magnetic activity occurring in the Sun's Magnetic Field in addition to locational coordinates.\n",
    "- GSE Coordinates (`X`,`Y`,`Z`)\n",
    "  - These coordinates are the predicted satellite locations based on location coordinates on Earth. Does not appear to have a strong relationship with key features of interest. So we can be sure the data captured is not heavily influenced by the satellite location. It is safe to drop these features during algorithm training as it only describes satellite location, and does not directly measure Solar Wind properties."
   ]
  },
  {
   "cell_type": "markdown",
   "metadata": {
    "datalore": {
     "hide_input_from_viewers": true,
     "hide_output_from_viewers": true,
     "node_id": "4z6QtbgH7mnENMT2nBIFu8",
     "type": "MD"
    },
    "jp-MarkdownHeadingCollapsed": true,
    "tags": []
   },
   "source": [
    "## HCS Indexes Exploration\n",
    "\n",
    "Data provided by University of Michigan Climate & Space Sciences and Engineering, Liang Zhao, PhD\n",
    "\n",
    "The heliospheric current sheet (HCS) is a surface separating regions of the\n",
    "heliosphere where the interplanetary magnetic field points toward and away from\n",
    "the sun. An electrical current flows within this surface, forming a current\n",
    "sheet confined to this surface. The shape of the current sheet results from the\n",
    "influence of the Sun's rotating magnetic field on the plasma in the\n",
    "interplanetary medium.\n",
    "\n",
    "It can be very challenging to evaluate activity occuring within the HCS. Dr.\n",
    "Liang Zhao, a research professor at the University of Michigan, introduces two\n",
    "novel parameters that evaluate the global complexity of the Sun's magnetic field\n",
    "and tracking of the solar cycle:\n",
    "\n",
    "- SD Index: The standard deviation of the latitude of the HCS\n",
    "- SL Index: Integrated slope of the HCS\n",
    "\n",
    "HCS SL and SD index was provided by Dr. Liang Zhao. Monthly average sunspot\n",
    "number dating back to 1749 can be found on the\n",
    "[Solar Influences Data Analysis Center](https://www.sidc.be/SILSO/infosnmtot)\n",
    "website.\n",
    "\n",
    "#### Why does this matter?\n",
    "\n",
    "Solar activity like sunspots can be used to help predict space weather, the\n",
    "state of the ionosphere, and conditions relevant radio and satellite\n",
    "communications.\n",
    "\n",
    "The sunspot cycle is a near 11-year change in the Sun's activity measured in\n",
    "terms of variations in the number of observed sunspots on the Sun's surface.\n",
    "Sunspots are temporary, dark spots on the sun's surface caused by concentrations\n",
    "of magnetic flux that inhibit convection. Sunspots typically appear in the\n",
    "active latitude regions close to the Sun's equator.\n",
    "\n",
    "For more information on SD and SL index calculations, please read the PowerPoint\n",
    "README file in the GitHub Repo.\n"
   ]
  },
  {
   "cell_type": "code",
   "execution_count": null,
   "metadata": {
    "datalore": {
     "hide_input_from_viewers": true,
     "hide_output_from_viewers": true,
     "node_id": "uzrXpWIHOjbT6LhiMkQcNZ",
     "type": "CODE"
    }
   },
   "outputs": [],
   "source": [
    "# importing HCS data as dataframe\n",
    "\n",
    "index_data = pd.read_csv(\n",
    "    \"/data/workspace_files/HCS_Data/HCS_parameters_update_CR2257.txt\",\n",
    "    engine=\"python\",\n",
    "    header=0,\n",
    "    sep=\",|\\s+\",\n",
    ")\n",
    "sunspot_data = pd.read_csv(\n",
    "    \"/data/workspace_files/HCS_Data/SN_m_tot_V2.0.csv\",\n",
    "    skiprows=2714,\n",
    "    sep=\";\",\n",
    "    header=0,\n",
    "    names=[\n",
    "        \"year\",\n",
    "        \"month\",\n",
    "        \"fyear_CS\",\n",
    "        \"avg_spNum\",\n",
    "        \"sd_spNum\",\n",
    "        \"num_obvs\",\n",
    "        \"definitve_marker\",\n",
    "    ],\n",
    ")"
   ]
  },
  {
   "cell_type": "markdown",
   "metadata": {
    "datalore": {
     "hide_input_from_viewers": true,
     "hide_output_from_viewers": true,
     "node_id": "UgC9h6Wm0DIZZtr03ngAW2",
     "type": "MD"
    }
   },
   "source": [
    "For this project, we are directed to only use fractional year (`fyear_CS`), SD\n",
    "Index (`SD_70`), SL Index (`SL_70`), and monthly average sunspot number (`avg_spNum`).\n",
    "We will quickly look to see if there are patterns with the data outside\n",
    "of our scope.\n"
   ]
  },
  {
   "cell_type": "code",
   "execution_count": null,
   "metadata": {
    "datalore": {
     "hide_input_from_viewers": true,
     "hide_output_from_viewers": true,
     "node_id": "T8dBtjMQ9IGHt947KNCHTH",
     "type": "CODE"
    }
   },
   "outputs": [],
   "source": [
    "index_data.describe()"
   ]
  },
  {
   "cell_type": "code",
   "execution_count": null,
   "metadata": {
    "datalore": {
     "hide_input_from_viewers": true,
     "hide_output_from_viewers": true,
     "node_id": "eaKJgfeaueRr3kAgcUoDFB",
     "type": "CODE"
    }
   },
   "outputs": [],
   "source": [
    "sunspot_data.describe()"
   ]
  },
  {
   "cell_type": "code",
   "execution_count": null,
   "metadata": {
    "datalore": {
     "hide_input_from_viewers": true,
     "hide_output_from_viewers": true,
     "node_id": "QZEbTgpl5FuiJCd1465xk5",
     "type": "CODE"
    }
   },
   "outputs": [],
   "source": [
    "from lets_plot.bistro import corr\n",
    "from lets_plot import *\n",
    "\n",
    "ggplot()\n",
    "\n",
    "(\n",
    "    corr.corr_plot(index_data).tiles().build()\n",
    "    + ggsize(500, 370)\n",
    "    + ggtitle(\"HCS Index Data Correlation Matrix\")\n",
    ")"
   ]
  },
  {
   "cell_type": "code",
   "execution_count": null,
   "metadata": {
    "datalore": {
     "hide_input_from_viewers": true,
     "hide_output_from_viewers": true,
     "node_id": "kYEC7ElZix5uB2ZrCmoPDN",
     "type": "CODE"
    }
   },
   "outputs": [],
   "source": [
    "from lets_plot.bistro import corr\n",
    "from lets_plot import *\n",
    "\n",
    "ggplot()\n",
    "\n",
    "(\n",
    "    corr.corr_plot(sunspot_data).tiles().build()\n",
    "    + ggsize(500, 370)\n",
    "    + ggtitle(\"Total Monthly Sunspot Number Correlation Matrix\")\n",
    ")"
   ]
  },
  {
   "cell_type": "code",
   "execution_count": null,
   "metadata": {
    "datalore": {
     "hide_input_from_viewers": true,
     "hide_output_from_viewers": true,
     "node_id": "vz5eQL1sPYtucRF1AyPcEi",
     "plot_state": {
      "label": "SD and SL Index vs. Fractional Year",
      "plots": [
       {
        "colorAxis": {
         "label": "",
         "scale": "NONE",
         "value": "#1100FF"
        },
        "type": "POINT",
        "variable": "index_data",
        "xAxis": {
         "label": "",
         "scale": "NONE",
         "value": "fyear_CS"
        },
        "yAxis": {
         "label": "",
         "scale": "LOG10",
         "value": "SD_70"
        }
       },
       {
        "colorAxis": {
         "label": "",
         "scale": "NONE",
         "value": "#ff8800"
        },
        "type": "POINT",
        "variable": "index_data",
        "xAxis": {
         "label": "",
         "scale": "NONE",
         "value": "fyear_CS"
        },
        "yAxis": {
         "label": "",
         "scale": "LOG10",
         "value": "SL_70"
        }
       }
      ],
      "reactive": true,
      "sampling": false
     },
     "type": "PLOT"
    }
   },
   "outputs": [],
   "source": [
    "from lets_plot import *\n",
    "\n",
    "(\n",
    "    ggplot()\n",
    "    + geom_point(\n",
    "        aes(x=\"fyear_CS\", y=\"SD_70\"), data=index_data, sampling=\"none\", color=\"#1100FF\"\n",
    "    )\n",
    "    + geom_point(\n",
    "        aes(x=\"fyear_CS\", y=\"SL_70\"), data=index_data, sampling=\"none\", color=\"#ff8800\"\n",
    "    )\n",
    "    + ggtitle(\"SD and SL Index vs. Fractional Year\")\n",
    "    + scale_y_log10()\n",
    ")"
   ]
  },
  {
   "cell_type": "code",
   "execution_count": null,
   "metadata": {
    "datalore": {
     "hide_input_from_viewers": true,
     "hide_output_from_viewers": true,
     "node_id": "BlMHXhbcAfuDusr44FumRa",
     "type": "CODE"
    }
   },
   "outputs": [],
   "source": [
    "from lets_plot import *\n",
    "\n",
    "(\n",
    "    ggplot()\n",
    "    + geom_point(\n",
    "        aes(x=\"fyear_CS\", y=\"SD_70\"), data=index_data, sampling=\"none\", color=\"#1100FF\"\n",
    "    )\n",
    "    + geom_point(\n",
    "        aes(x=\"fyear_CS\", y=\"SL_70\"), data=index_data, sampling=\"none\", color=\"#ff8800\"\n",
    "    )\n",
    "    + ggtitle(\"SD and SL Index vs. Fractional Year\")\n",
    "    + scale_y_log10()\n",
    ")"
   ]
  },
  {
   "cell_type": "code",
   "execution_count": null,
   "metadata": {
    "datalore": {
     "hide_input_from_viewers": true,
     "hide_output_from_viewers": true,
     "node_id": "yUdwi1b9GA79b6lj5jMou3",
     "plot_state": {
      "label": "Monthly Total Average Sunspot Number vs. Fractional Year",
      "plots": [
       {
        "colorAxis": {
         "label": "",
         "scale": "NONE"
        },
        "type": "POINT",
        "variable": "sunspot_data",
        "xAxis": {
         "label": "",
         "scale": "NONE",
         "value": "fyear_CS"
        },
        "yAxis": {
         "label": "",
         "scale": "NONE",
         "value": "avg_spNum"
        }
       }
      ],
      "reactive": true,
      "sampling": true
     },
     "type": "PLOT"
    }
   },
   "outputs": [],
   "source": [
    "from lets_plot import *\n",
    "\n",
    "(\n",
    "    ggplot()\n",
    "    + geom_point(\n",
    "        aes(x=\"fyear_CS\", y=\"avg_spNum\"),\n",
    "        data=sunspot_data,\n",
    "        sampling=\"none\" if sunspot_data.size < 2500 else sampling_systematic(\n",
    "            n=2500),\n",
    "    )\n",
    "    + ggtitle(\"Monthly Total Average Sunspot Number vs. Fractional Year\")\n",
    ")"
   ]
  }
 ],
 "metadata": {
  "datalore": {
   "base_environment": "default",
   "computation_mode": "JUPYTER",
   "package_manager": "pip",
   "packages": [],
   "report_row_ids": [],
   "version": 3
  },
  "kernelspec": {
   "display_name": "Python 3 (ipykernel)",
   "language": "python",
   "name": "python3"
  },
  "language_info": {
   "codemirror_mode": {
    "name": "ipython",
    "version": 3
   },
   "file_extension": ".py",
   "mimetype": "text/x-python",
   "name": "python",
   "nbconvert_exporter": "python",
   "pygments_lexer": "ipython3",
   "version": "3.8.13"
  }
 },
 "nbformat": 4,
 "nbformat_minor": 4
}
