{
  "cells": [
    {
      "cell_type": "markdown",
      "metadata": {
        "id": "cxw-xnPZZW9g"
      },
      "source": [
        "# Forecasting Sunspot Numbers: A Comparative Analysis of Predictive Models\n",
        "Data: https://www.sidc.be/SILSO/datafiles\n"
      ]
    },
    {
      "cell_type": "code",
      "execution_count": null,
      "metadata": {
        "id": "5hMxK176UU8q"
      },
      "outputs": [],
      "source": [
        "import pandas as pd\n",
        "import matplotlib.pyplot as plt\n"
      ]
    },
    {
      "cell_type": "markdown",
      "metadata": {
        "id": "uqOdy2TWXX0o"
      },
      "source": [
        "## Data Preprocessing and Analysis\n",
        "\n",
        "First, let's load and inspect the data to understand its structure and quality."
      ]
    },
    {
      "cell_type": "markdown",
      "metadata": {
        "id": "HOftqFmtat5q"
      },
      "source": [
        "**Dataset Description:**\n",
        "\n",
        "- **Data Type:** Monthly mean total sunspot number\n",
        "- **Time Range:** January 1749 - Last elapsed month\n",
        "- **Description:** Monthly mean total sunspot number obtained by averaging daily total sunspot numbers for each calendar month. Data is available since 1749 due to sparse observations before that year.\n",
        "- **Error Values:** A value of -1 indicates a missing observation. Monthly standard deviation is derived from daily values, and standard error on monthly mean values can be computed.\n",
        "- **Data Format:** Available in both plain ASCII text and CSV formats.\n",
        "- **Columns (CSV):**\n",
        "  1. Year\n",
        "  2. Month\n",
        "  3. Date in fraction of year\n",
        "  4. Monthly mean total sunspot number\n",
        "  5. Monthly mean standard deviation of sunspot numbers\n",
        "  6. Number of observations used\n",
        "  7. Definitive/provisional marker (1 for definitive, 0 for provisional)"
      ]
    },
    {
      "cell_type": "code",
      "execution_count": null,
      "metadata": {
        "colab": {
          "base_uri": "https://localhost:8080/",
          "height": 457
        },
        "id": "1HT1-2-_UU8r",
        "outputId": "c74a3978-4a30-4f8b-8345-2e7cfc2251cc"
      },
      "outputs": [],
      "source": [
        "df = pd.read_csv('/content/SN_m_tot_V2.0.csv',\n",
        "                 delimiter=';',\n",
        "                 header=None,\n",
        "                 names=['year', 'month', 'decimal_year', 'sunspot_number', 'std_dev', 'observations', 'definitive'])\n",
        "\n",
        "df.head(13)\n"
      ]
    },
    {
      "cell_type": "code",
      "execution_count": null,
      "metadata": {
        "colab": {
          "base_uri": "https://localhost:8080/"
        },
        "id": "QimwfJ0tUU8s",
        "outputId": "88a50f47-e15e-499c-8f0a-59bef7872c05"
      },
      "outputs": [],
      "source": [
        "print(df.isnull().sum())"
      ]
    },
    {
      "cell_type": "markdown",
      "metadata": {
        "id": "BjPDPkECXjrr"
      },
      "source": [
        "Next, we'll convert the year and month columns to a datetime object and set the date column as the index for time series analysis."
      ]
    },
    {
      "cell_type": "code",
      "execution_count": null,
      "metadata": {
        "id": "_0i3r50KUU8t"
      },
      "outputs": [],
      "source": [
        "# Convert year and month into a datetime object\n",
        "df['date'] = pd.to_datetime(df['year'].astype(str) + '-' + df['month'].astype(str))\n",
        "\n",
        "# Set this new date column as the index for easier time series analysis\n",
        "df.set_index('date', inplace=True)\n",
        "\n",
        "# Drop the original Year and Month columns\n",
        "#df.drop(['year', 'month'], axis=1, inplace=True)"
      ]
    },
    {
      "cell_type": "code",
      "execution_count": null,
      "metadata": {
        "colab": {
          "base_uri": "https://localhost:8080/",
          "height": 238
        },
        "id": "MGVZY05NUU8t",
        "outputId": "77bcbbad-4b3b-4ca1-af97-4d77f497b887"
      },
      "outputs": [],
      "source": [
        "df.head()\n"
      ]
    },
    {
      "cell_type": "code",
      "execution_count": null,
      "metadata": {
        "id": "RIq2bdiGUU8u"
      },
      "outputs": [],
      "source": [
        "# Remove rows where \"observations\" is -1 because that indicates missing values\n",
        "\n",
        "df = df[df['observations'] != -1]"
      ]
    },
    {
      "cell_type": "code",
      "execution_count": null,
      "metadata": {
        "colab": {
          "base_uri": "https://localhost:8080/",
          "height": 238
        },
        "id": "oyb2BvI3UU8u",
        "outputId": "b05117be-a483-451f-bbdb-057c2b5e34da"
      },
      "outputs": [],
      "source": [
        "df.head()"
      ]
    },
    {
      "cell_type": "markdown",
      "metadata": {
        "id": "hBczoRAPXoGp"
      },
      "source": [
        "Let's visualize the sunspot numbers over time to understand their distribution and patterns.\n",
        "\n"
      ]
    },
    {
      "cell_type": "code",
      "execution_count": null,
      "metadata": {
        "colab": {
          "base_uri": "https://localhost:8080/",
          "height": 1000
        },
        "id": "SV3UtplxUU8u",
        "outputId": "e8b2cdc8-a824-4ed2-94c2-27067d50339c"
      },
      "outputs": [],
      "source": [
        "# Statistical summary of the data\n",
        "print(df.describe())\n",
        "\n",
        "# Plotting sunspot numbers over time\n",
        "plt.figure(figsize=(14, 7))\n",
        "plt.plot(df.index, df['sunspot_number'], label='Monthly Sunspot Number')\n",
        "plt.title('Monthly Sunspot Numbers Over Time')\n",
        "plt.xlabel('Date')\n",
        "plt.ylabel('Number of Sunspots')\n",
        "plt.legend()\n",
        "plt.show()\n",
        "\n",
        "# Histogram to examine the distribution of sunspot numbers\n",
        "plt.figure(figsize=(10, 5))\n",
        "plt.hist(df['sunspot_number'], bins=50, alpha=0.75)\n",
        "plt.title('Distribution of Sunspot Numbers')\n",
        "plt.xlabel('Sunspot Number')\n",
        "plt.ylabel('Frequency')\n",
        "plt.show()\n"
      ]
    },
    {
      "cell_type": "markdown",
      "metadata": {
        "id": "yPU59tYIp0ZT"
      },
      "source": [
        "The first graph is a histogram that shows the frequency of sunspot numbers. It reveals that lower sunspot numbers occur more frequently than higher numbers, with the frequency decreasing as the number of sunspots increases. This distribution suggests that it's more common to observe months with fewer sunspots, while months with a very high number of sunspots are rare.\n",
        "\n",
        "The second graph presents a time series plot that shows the monthly sunspot numbers from around 1749 to 2024. The graph shows a cyclical pattern in sunspot numbers, with peaks and troughs occurring at regular intervals. This cyclic behavior is characteristic of the solar cycle, typically lasting about 11 years, during which the Sun's magnetic field undergoes various changes, leading to variations in sunspot numbers."
      ]
    },
    {
      "cell_type": "markdown",
      "metadata": {
        "id": "N6HCe3PjXsGD"
      },
      "source": [
        "##Time Series Modeling\n",
        "We'll now proceed with time series modeling, including feature engineering and model training."
      ]
    },
    {
      "cell_type": "code",
      "execution_count": null,
      "metadata": {
        "id": "sxaaOoGkUU8v"
      },
      "outputs": [],
      "source": [
        "# Creating lagged features\n",
        "for lag in range(1, 13):  # 12 months, you can choose different lags based on domain knowledge\n",
        "    df[f'sunspot_number_lag_{lag}'] = df['sunspot_number'].shift(lag)\n"
      ]
    },
    {
      "cell_type": "code",
      "execution_count": null,
      "metadata": {
        "id": "XTcS7KUbUU8v"
      },
      "outputs": [],
      "source": [
        "# Creating rolling window features of window size 12 months\n",
        "df['rolling_mean'] = df['sunspot_number'].rolling(window=12).mean()\n",
        "df['rolling_std'] = df['sunspot_number'].rolling(window=12).std()\n"
      ]
    },
    {
      "cell_type": "code",
      "execution_count": null,
      "metadata": {
        "id": "I-JZ1Xh3UU8v"
      },
      "outputs": [],
      "source": [
        "from statsmodels.tsa.seasonal import seasonal_decompose\n",
        "\n",
        "# Seasonal decomposition of the sunspot time series\n",
        "decomposition = seasonal_decompose(df['sunspot_number'], model='additive', period=12)\n",
        "df['trend'] = decomposition.trend\n",
        "df['seasonal'] = decomposition.seasonal\n"
      ]
    },
    {
      "cell_type": "code",
      "execution_count": null,
      "metadata": {
        "colab": {
          "base_uri": "https://localhost:8080/"
        },
        "id": "WOeZ9NApUU8v",
        "outputId": "d75a5db8-5266-4789-98be-f0dc3efc04c0"
      },
      "outputs": [],
      "source": [
        "# Check for missing values\n",
        "\n",
        "df.isna().sum()"
      ]
    },
    {
      "cell_type": "code",
      "execution_count": null,
      "metadata": {
        "id": "95sSICVUUU8w"
      },
      "outputs": [],
      "source": [
        "import numpy as np\n",
        "\n",
        "# Encoding 'month' as a cyclical continuous feature\n",
        "df['month_sin'] = np.sin(2 * np.pi * df['month']/12)\n",
        "df['month_cos'] = np.cos(2 * np.pi * df['month']/12)\n"
      ]
    },
    {
      "cell_type": "code",
      "execution_count": null,
      "metadata": {
        "colab": {
          "base_uri": "https://localhost:8080/",
          "height": 374
        },
        "id": "XfnT2Ok7UU8w",
        "outputId": "88881e24-16bb-4785-b867-c28adb6d477f"
      },
      "outputs": [],
      "source": [
        "df.head()"
      ]
    },
    {
      "cell_type": "code",
      "execution_count": null,
      "metadata": {
        "id": "AJZqhWzGUU8w"
      },
      "outputs": [],
      "source": [
        "# Drop rows with NaN values\n",
        "df_cleaned = df.dropna()\n"
      ]
    },
    {
      "cell_type": "code",
      "execution_count": null,
      "metadata": {
        "colab": {
          "base_uri": "https://localhost:8080/"
        },
        "id": "4AAcd1dGUU8w",
        "outputId": "90404a70-d9a1-46e9-b998-3a202849c67b"
      },
      "outputs": [],
      "source": [
        "df_cleaned.shape"
      ]
    },
    {
      "cell_type": "code",
      "execution_count": null,
      "metadata": {
        "colab": {
          "base_uri": "https://localhost:8080/",
          "height": 649
        },
        "id": "XC8N7ICTUU8w",
        "outputId": "48c52da5-f232-4b10-a667-d20ce6335439"
      },
      "outputs": [],
      "source": [
        "df_cleaned"
      ]
    },
    {
      "cell_type": "markdown",
      "metadata": {
        "id": "Ui0_LQ3nq33I"
      },
      "source": [
        "This code block is used to split the cleaned sunspot dataset into training and test sets based on a date when the last solar cycle started - 2009. The training set includes data before this date, while the test set comprises data from this date onwards. The shapes of the two datasets are printed to verify the split. A plot visualizes both the training and test data, with a red dashed vertical line indicating the start of the test data.\n"
      ]
    },
    {
      "cell_type": "code",
      "execution_count": null,
      "metadata": {
        "colab": {
          "base_uri": "https://localhost:8080/",
          "height": 676
        },
        "id": "2ZufEmPHHXOi",
        "outputId": "0a562016-68c7-40ed-8fe8-9515d76e4076"
      },
      "outputs": [],
      "source": [
        "\n",
        "split_date = pd.to_datetime('2009-01-01')\n",
        "\n",
        "# Split into train and test sets\n",
        "train_df = df_cleaned.loc[df_cleaned.index < split_date]\n",
        "test_df = df_cleaned.loc[df_cleaned.index >= split_date]\n",
        "\n",
        "# Print the shapes of the train and test sets to confirm the split\n",
        "print(\"Training Set Shape:\", train_df.shape)\n",
        "print(\"Testing Set Shape:\", test_df.shape)\n",
        "\n",
        "# Plot the sunspot numbers over time to visualize the training and testing data\n",
        "plt.figure(figsize=(14, 7))\n",
        "plt.plot(df_cleaned.index, df_cleaned['sunspot_number'], label='Monthly Sunspot Number')\n",
        "plt.axvline(x=split_date, color='r', linestyle='--', label='Start of Test Data')\n",
        "plt.title('Monthly Sunspot Numbers Over Time with Training/Test Split')\n",
        "plt.xlabel('Date')\n",
        "plt.ylabel('Number of Sunspots')\n",
        "plt.legend()\n",
        "plt.show()"
      ]
    },
    {
      "cell_type": "code",
      "execution_count": null,
      "metadata": {
        "id": "ohwz8PeZKTjw"
      },
      "outputs": [],
      "source": [
        "train_df"
      ]
    },
    {
      "cell_type": "code",
      "execution_count": null,
      "metadata": {
        "id": "Cbgm1gwyKVqv"
      },
      "outputs": [],
      "source": [
        "test_df.columns"
      ]
    },
    {
      "cell_type": "code",
      "execution_count": null,
      "metadata": {
        "id": "th-vaF4-Kavr"
      },
      "outputs": [],
      "source": [
        "df_cleaned.columns\n"
      ]
    },
    {
      "cell_type": "code",
      "execution_count": null,
      "metadata": {
        "id": "Z44oD3fEKlnV"
      },
      "outputs": [],
      "source": [
        "#pip install Prophet"
      ]
    },
    {
      "cell_type": "markdown",
      "metadata": {
        "id": "WgkZSW__qofx"
      },
      "source": [
        "# Prophet Model Forecasting\n",
        "\n",
        "\n",
        "This code sets up and trains a time series forecasting model using the Prophet library, focusing on the cleaned sunspot data from 1990 onwards. The model is configured to ignore weekly and daily seasonality but includes custom monthly seasonality. The `fit` method trains the model on the historical data. Then, a future DataFrame is created for predictions up to the year 2030, and the model generates a forecast for these future dates.\n"
      ]
    },
    {
      "cell_type": "code",
      "execution_count": null,
      "metadata": {
        "colab": {
          "base_uri": "https://localhost:8080/"
        },
        "id": "1qnlIXF5Kjr8",
        "outputId": "481614e3-da5f-421e-f88a-7ad469c19ab6"
      },
      "outputs": [],
      "source": [
        "from prophet import Prophet\n",
        "import pandas as pd\n",
        "\n",
        "last_historical_date = df_cleaned.index[-1]\n",
        "\n",
        "# Prepare the dataframe for Prophet, filtering data from 1990\n",
        "df_prophet = df_cleaned[df_cleaned.index >= '1990-01-01'].reset_index()[['date', 'sunspot_number']]\n",
        "df_prophet.rename(columns={'date': 'ds', 'sunspot_number': 'y'}, inplace=True)\n",
        "\n",
        "# Initialize the model\n",
        "model = Prophet(weekly_seasonality=False, daily_seasonality=False)\n",
        "model.add_seasonality(name='monthly', period=30.5, fourier_order=5)\n",
        "\n",
        "# Fit the model\n",
        "model.fit(df_prophet)\n",
        "\n",
        "# Create a future dataframe for monthly predictions starting from the month after the last historical data\n",
        "future = model.make_future_dataframe(periods=12 * (2030 - last_historical_date.year) + (12 - last_historical_date.month), freq='M')\n",
        "\n",
        "forecast = model.predict(future)\n",
        "\n",
        "# Now filter the forecast to include only future dates after the historical data\n",
        "forecast_future_only = forecast[forecast['ds'] > last_historical_date]\n"
      ]
    },
    {
      "cell_type": "code",
      "execution_count": null,
      "metadata": {
        "colab": {
          "base_uri": "https://localhost:8080/",
          "height": 594
        },
        "id": "hJEtuCG_5jPN",
        "outputId": "12d0504b-d206-4d49-f6a5-cc61b44a6857"
      },
      "outputs": [],
      "source": [
        "import matplotlib.pyplot as plt\n",
        "import matplotlib.dates as mdates\n",
        "\n",
        "# Plotting\n",
        "plt.figure(figsize=(15, 7))\n",
        "\n",
        "# Historical data from 1990\n",
        "plt.plot(df_prophet['ds'], df_prophet['y'], label='Historical Sunspot Number', color='blue')\n",
        "\n",
        "# Predicted data appended to historical data\n",
        "plt.plot(forecast_future_only['ds'], forecast_future_only['yhat'], label='Predicted Sunspot Number', color='orange', linestyle='--')\n",
        "\n",
        "# Set the x-axis major ticks format\n",
        "plt.gca().xaxis.set_major_locator(mdates.YearLocator(5))\n",
        "plt.gca().xaxis.set_major_formatter(mdates.DateFormatter('%Y'))\n",
        "\n",
        "# Add labels and title\n",
        "plt.title('Sunspot Number Prediction: Prophet Model')\n",
        "plt.xlabel('Year')\n",
        "plt.ylabel('Sunspot Number')\n",
        "plt.legend()\n",
        "\n",
        "# Rotate date labels for better readability\n",
        "plt.gcf().autofmt_xdate()\n",
        "\n",
        "plt.show()\n"
      ]
    },
    {
      "cell_type": "markdown",
      "metadata": {
        "id": "Zt0R9MYOxRMW"
      },
      "source": [
        "### Visualization:\n",
        "\n",
        "The code above was used to plot the historical sunspot data alongside the predicted sunspots from the Prophet model forecast. The historical data is shown in blue, and the model's predictions are indicated by an orange dashed line. The x-axis is formatted to show only the years, spaced five years apart, for clarity. The graph provides a visualization of past and predicted sunspot activity as estimated by the Prophet model.\n",
        "\n",
        "- The solid blue line plots the historical sunspot numbers recorded from 1990 to the recent past.\n",
        "- The dashed orange line represents the sunspot numbers as predicted by the Prophet model extending into the future, up to 2030.\n",
        "\n",
        "\n",
        "- Clearly, the predicted values show a downward trend, suggesting that the model expects the number of sunspots to decrease after the last recorded data point.\n",
        "- The Prophet model has clearly separated the predicted sunspot numbers from the past data, making it easy to distinguish between what has been observed and what is predicted.\n",
        "\n",
        "- One aspect that stands out is the decreasing trend in predicted values, which might suggest the model's dampening effect on future predictions. This could reflect the model's inherent trend components adjusting for cyclical behavior seen in the historical data.\n",
        "- While the forecasted trend seems to align with the cyclical nature of sunspot numbers, the magnitude of the forecasted peaks and troughs appears subdued. This could be due to the model's default behavior where uncertainty in predictions increases over time, often leading to more conservative estimates.\n",
        "\n",
        "### Broader Implications:\n",
        "\n",
        "- Predictions made by the Prophet model can be useful for preparing for solar-related phenomena, impacting areas from climate studies to technology infrastructure.\n",
        "- It's important to factor in the model's tendency to present a smoothed forecast when using this data for planning and risk assessment.\n",
        "\n"
      ]
    },
    {
      "cell_type": "markdown",
      "metadata": {
        "id": "s2ypYSRvr8Er"
      },
      "source": [
        "### Model Performance\n",
        "This code is connected to forecasting sunspot numbers using the Prophet model. It begins by redefining the split date to '2009-12-01' to create a training dataset that ends before the recent solar minimum, a period of low sunspot activity. The data is then split into training and test datasets accordingly. The training data is prepared in a format suitable for Prophet, which is then initialized and trained to capture the monthly seasonality of sunspots without weekly or daily components. After training, the model predicts sunspots for the dates in the test set. Finally, the code computes the Mean Absolute Error (MAE), Mean Squared Error (MSE), and Root Mean Squared Error (RMSE) to quantify the forecasting performance.\n"
      ]
    },
    {
      "cell_type": "code",
      "execution_count": null,
      "metadata": {
        "colab": {
          "base_uri": "https://localhost:8080/"
        },
        "id": "I-ysjAoHCjtl",
        "outputId": "e3833ecc-73dd-4cfc-a0f2-84e3f16bf9e4"
      },
      "outputs": [],
      "source": [
        "from prophet import Prophet\n",
        "from sklearn.metrics import mean_absolute_error, mean_squared_error\n",
        "import numpy as np\n",
        "\n",
        "# Define a new split date around the end of the previous solar minimum\n",
        "split_date = pd.to_datetime('2009-12-01')\n",
        "\n",
        "# Split the data based on the new split date\n",
        "train_df = df_cleaned.loc[df_cleaned.index < split_date]\n",
        "test_df = df_cleaned.loc[df_cleaned.index >= split_date]\n",
        "\n",
        "# Prepare the training data for Prophet\n",
        "train_df_prophet = train_df.reset_index()[['date', 'sunspot_number']]\n",
        "train_df_prophet.rename(columns={'date': 'ds', 'sunspot_number': 'y'}, inplace=True)\n",
        "\n",
        "# Initialize and fit the Prophet model on the training dataset\n",
        "model = Prophet(weekly_seasonality=False, daily_seasonality=False)\n",
        "model.add_seasonality(name='monthly', period=30.5, fourier_order=5)\n",
        "model.fit(train_df_prophet)\n",
        "\n",
        "# Create a future dataframe that includes the dates from the test set\n",
        "future_dates = model.make_future_dataframe(periods=len(test_df), freq='D')\n",
        "forecast = model.predict(future_dates)\n",
        "\n",
        "# Get the predicted 'yhat' for the validation set\n",
        "y_pred = forecast['yhat'][-len(test_df):]\n",
        "\n",
        "# The actual 'y' values from the validation set\n",
        "y_true = test_df['sunspot_number']\n",
        "\n",
        "# Calculate error metrics\n",
        "mae = mean_absolute_error(y_true, y_pred)\n",
        "mse = mean_squared_error(y_true, y_pred)\n",
        "rmse = np.sqrt(mse)\n",
        "\n",
        "# Print the error metrics\n",
        "print(f'Mean Absolute Error (MAE): {mae:.2f}')\n",
        "print(f'Mean Squared Error (MSE): {mse:.2f}')\n",
        "print(f'Root Mean Squared Error (RMSE): {rmse:.2f}')\n"
      ]
    },
    {
      "cell_type": "markdown",
      "metadata": {
        "id": "_oBnkGlIsF-o"
      },
      "source": [
        "The output shows the performance of the Prophet model on the test data. An MAE of 46.60 suggests that, on average, the model's predictions are about 46.60 sunspots away from the actual number. The MSE of 3183.45 is quite high, indicating significant variance in the model's predictions from the actual values. The RMSE of 56.42, being the square root of MSE, provides a more interpretable measure of the average error magnitude. The relatively high RMSE value hints at the complexity and difficulty of accurately predicting sunspot numbers, likely due to their volatile nature.\n"
      ]
    },
    {
      "cell_type": "markdown",
      "metadata": {
        "id": "9eBD3Dr8YHlc"
      },
      "source": [
        "#LSTM Model Forecasting\n"
      ]
    },
    {
      "cell_type": "markdown",
      "metadata": {
        "id": "45RIRBLTtT2B"
      },
      "source": [
        "We used an LSTM (Long Short-Term Memory) - a neural network that is constructed and trained to predict sunspot numbers.\n",
        "\n",
        "The LSTM network is composed of two LSTM layers with 100 units each and 'tanh' activation, interspersed with Dropout layers to prevent overfitting. The model is trained on the training data for 50 epochs with early stopping enabled, which monitors the validation loss and stops training if it doesn't improve after 10 consecutive epochs. After training, the model's performance is evaluated on the test set using MSE, RMSE, and MAE as metrics, indicating how close the predicted sunspot numbers are to the actual values.\n"
      ]
    },
    {
      "cell_type": "code",
      "execution_count": null,
      "metadata": {
        "colab": {
          "base_uri": "https://localhost:8080/"
        },
        "id": "iXISuY07cdJy",
        "outputId": "5979fbae-3861-49d4-c153-c43e4c778cb5"
      },
      "outputs": [],
      "source": [
        "import numpy as np\n",
        "import pandas as pd\n",
        "from sklearn.preprocessing import MinMaxScaler\n",
        "from keras.models import Sequential\n",
        "from keras.layers import LSTM, Dense, Dropout\n",
        "from keras.preprocessing.sequence import TimeseriesGenerator\n",
        "from keras.callbacks import EarlyStopping\n",
        "from sklearn.metrics import mean_squared_error, mean_absolute_error\n",
        "\n",
        "split_date = pd.to_datetime('2009-12-01')\n",
        "train_df = df_cleaned.loc[df_cleaned.index < split_date]\n",
        "test_df = df_cleaned.loc[df_cleaned.index >= split_date]\n",
        "\n",
        "# Scaling\n",
        "scaler = MinMaxScaler(feature_range=(0, 1))\n",
        "train_scaled = scaler.fit_transform(train_df[['sunspot_number']])\n",
        "test_scaled = scaler.transform(test_df[['sunspot_number']])\n",
        "\n",
        "sequence_length = 12\n",
        "batch_size = 1\n",
        "\n",
        "# Prepare generators for LSTM\n",
        "train_generator = TimeseriesGenerator(train_scaled, train_scaled, length=sequence_length, batch_size=batch_size)\n",
        "test_generator = TimeseriesGenerator(test_scaled, test_scaled, length=sequence_length, batch_size=batch_size)\n",
        "\n",
        "# LSTM model\n",
        "model = Sequential([\n",
        "    LSTM(100, activation='tanh', input_shape=(sequence_length, 1), return_sequences=True),\n",
        "    Dropout(0.3),\n",
        "    LSTM(100, activation='tanh', return_sequences=False),\n",
        "    Dropout(0.3),\n",
        "    Dense(1)\n",
        "])\n",
        "model.compile(optimizer='adam', loss='mse')\n",
        "\n",
        "# Train the LSTM model\n",
        "early_stopping = EarlyStopping(monitor='val_loss', patience=10, restore_best_weights=True)\n",
        "model.fit(train_generator, epochs=50, validation_data=test_generator, callbacks=[early_stopping], verbose=1)\n",
        "\n",
        "# Predictions on the test set\n",
        "predictions = model.predict(test_generator)\n",
        "\n",
        "# Inverse scale the predictions\n",
        "predictions_inverse = scaler.inverse_transform(predictions)\n",
        "test_y_inverse = scaler.inverse_transform(test_scaled[sequence_length:])\n",
        "\n",
        "# Calculate MSE for the predictions\n",
        "mse = mean_squared_error(test_y_inverse, predictions_inverse)\n",
        "rmse = np.sqrt(mse)\n",
        "mae = mean_absolute_error(test_y_inverse, predictions_inverse)\n",
        "\n",
        "print(f'MSE: {mse}')\n",
        "print(f'RMSE: {rmse}')\n",
        "print(f'MAE: {mae}')"
      ]
    },
    {
      "cell_type": "markdown",
      "metadata": {
        "id": "Mx67ZmrAtncU"
      },
      "source": [
        "### Forecasting\n",
        "\n",
        "This block of code demonstrates how the trained LSTM model can be utilized to make future predictions of sunspot numbers. The function `predict_future` takes the model, the last known sequence of sunspot numbers, and the number of future time steps to predict. It outputs the scaled predictions for the specified future steps.\n",
        "\n",
        "Using the last sequence from the test dataset, the model forecasts sunspot numbers up to December 31, 2030. The predictions are then inverse scaled to convert them back to their original scale. The results are plotted, displaying both historical sunspot numbers and the future predicted values up to the forecasted date. This plot provides a visual representation of the model's ability to extend its learned patterns into the future, giving insights into potential future sunspot activity.\n"
      ]
    },
    {
      "cell_type": "code",
      "execution_count": null,
      "metadata": {
        "colab": {
          "base_uri": "https://localhost:8080/",
          "height": 1000
        },
        "id": "ryNpLjopUU8y",
        "outputId": "1d53ac4e-de03-4733-a7b4-dcc56764f6ac"
      },
      "outputs": [],
      "source": [
        "# Function to make future predictions\n",
        "def predict_future(model, last_sequence, n_future_steps):\n",
        "    future_predictions = []\n",
        "    current_sequence = last_sequence\n",
        "\n",
        "    for _ in range(n_future_steps):\n",
        "        current_prediction = model.predict(current_sequence.reshape(1, sequence_length, 1))\n",
        "        future_predictions.append(current_prediction[0, 0])\n",
        "        current_sequence = np.roll(current_sequence, -1)\n",
        "        current_sequence[-1] = current_prediction\n",
        "\n",
        "    return future_predictions\n",
        "\n",
        "# Number of future periods to predict\n",
        "n_future_steps = (pd.Timestamp('2030-12-31') - test_df.index[-1]).days // 30\n",
        "\n",
        "# Get the last sequence from test data for the initial future prediction\n",
        "last_sequence = test_scaled[-sequence_length:].flatten()\n",
        "\n",
        "# Predict future\n",
        "future_predictions_scaled = predict_future(model, last_sequence, n_future_steps)\n",
        "\n",
        "# Here we ensure that the number of future predictions matches the number of future dates\n",
        "future_predictions = scaler.inverse_transform(np.array(future_predictions_scaled).reshape(-1, 1)).flatten()\n",
        "future_dates = pd.date_range(start=test_df.index[-1] + pd.DateOffset(days=30), periods=n_future_steps, freq='M')\n",
        "\n",
        "# Plotting the results including the future predictions\n",
        "plt.figure(figsize=(15, 7))\n",
        "\n",
        "# 1990 onwards for visualization\n",
        "historical_data_from_1990 = df_cleaned.loc[df_cleaned.index >= pd.to_datetime('1990-01-01')]\n",
        "\n",
        "# Plot historical data\n",
        "plt.plot(historical_data_from_1990.index, historical_data_from_1990['sunspot_number'], label='Historical Sunspot Numbers', color='blue')\n",
        "\n",
        "# Plot actual test data\n",
        "#plt.plot(test_df.index, test_df['sunspot_number'], label='Actual Sunspot Numbers', color='green')\n",
        "\n",
        "# Plot future predictions\n",
        "plt.plot(future_dates, future_predictions, label='Future Predicted Sunspot Numbers', color='orange', linestyle='--')\n",
        "\n",
        "# Set limits for x-axis to focus on recent data and the forecasting\n",
        "plt.xlim(left=pd.to_datetime('1990-01-01'), right=future_dates[-1])\n",
        "\n",
        "plt.title('LSTM Model: Sunspot Number Prediction')\n",
        "plt.xlabel('Date')\n",
        "plt.ylabel('Number of Sunspots')\n",
        "plt.legend()\n",
        "\n",
        "plt.show()\n"
      ]
    },
    {
      "cell_type": "markdown",
      "metadata": {
        "id": "PNAp-532vJfb"
      },
      "source": [
        "\n",
        "The graph presented showcases the predictive performance of the LSTM model on the task of forecasting sunspot numbers. The LSTM, a type of recurrent neural network, is particularly good at capturing the temporal dependencies in time-series data, making it a suitable choice for this application.\n",
        "\n",
        "\n",
        "- The blue line represents the historical sunspot numbers observed from 1990 onwards. This data serves as the ground truth against which we compare our model's predictions.\n",
        "- The dashed orange line illustrates the sunspot numbers predicted by the LSTM model for future dates, extending from the last point of known data into 2030 as the end of our curent solar cycle.\n",
        "\n",
        "\n",
        "- The future predictions appear as a smooth curve, which is a common characteristic of LSTM predictions over an extended horizon. The model tends to capture the trend while often smoothing over the finer fluctuations seen in the actual historical data.\n",
        "- The disparity between the complexity of the historical data and the smoothness of the predictions might indicate that the model's capacity to capture the inherent volatility and cyclical nature of sunspot activity can be further improved.\n",
        "\n",
        "\n",
        "- Despite the limitations in capturing the exact peaks and troughs of sunspot cycles, the general trend is valuable for anticipating upcoming solar maximum and minimum periods.\n",
        "\n",
        "\n",
        "The prediction graph highlights the importance of continued model refinement and the potential integration of additional relevant features that could help enhance the model's ability to forecast more nuanced aspects of the data.Different stategies of fine-tuning, additional feature engineering, or even ensemble methods that combine different models might yield more detailed and accurate predictions in future analyses.\n"
      ]
    },
    {
      "cell_type": "markdown",
      "metadata": {
        "id": "pmyqc86hupgd"
      },
      "source": [
        "## Perfromance metrics\n",
        "\n",
        "### Error Metrics Analysis and Model Comparison\n",
        "\n",
        "- MAE of 11.63 suggests that, on average, the LSTM model's predictions are approximately 11.63 units away from the actual sunspot numbers in the test set.\n",
        "- RMSE of 15.82 implies that the model's predictions typically deviate from the true values by about 15.82 units when considering the square root of the average squared differences.\n",
        "\n",
        "### Comparison with Prophet Model:\n",
        "\n",
        "When compared to the Prophet model, which yielded an MAE of 46.60 and an RMSE of 56.42, the LSTM model demonstrates a superior performance with much lower error values. This suggests that the LSTM model is better aligned with the test data, offering predictions that are closer to the actual observed sunspot numbers.\n",
        "\n",
        "### Considerations:\n",
        "\n",
        "- The lower MAE and RMSE for the LSTM model indicate that it has a stronger predictive capability for the sunspot dataset used. This comparison is contingent upon the use of identical test datasets and preprocessing steps across both models.\n",
        "- Sunspot prediction is inherently complex due to the cyclical and volatile nature of solar activity. Therefore, lower error metrics are indicative of the model's ability to grasp underlying patterns in the data despite this complexity."
      ]
    },
    {
      "cell_type": "code",
      "execution_count": null,
      "metadata": {
        "colab": {
          "base_uri": "https://localhost:8080/"
        },
        "id": "gOKoVkNEUU8y",
        "outputId": "a67bd7a8-9d44-4738-dd9e-be6f3d3abfc4"
      },
      "outputs": [],
      "source": [
        "from sklearn.metrics import mean_absolute_error, mean_squared_error\n",
        "\n",
        "# Calculate MAE and RMSE using the test set and the model's predictions\n",
        "mae = mean_absolute_error(test_y_inverse, predictions_inverse)\n",
        "rmse = np.sqrt(mean_squared_error(test_y_inverse, predictions_inverse))\n",
        "\n",
        "print(f\"Test MAE: {mae}\")\n",
        "print(f\"Test RMSE: {rmse}\")\n"
      ]
    },
    {
      "cell_type": "markdown",
      "metadata": {
        "id": "wK9MlKKdY4jR"
      },
      "source": [
        "## Discussion\n",
        "\n",
        "In our analysis, we evaluated two different models: Prophet and LSTM for forecasting sunspot numbers. Despite employing various sophisticated techniques, none of the models performed particularly well. This outcome shows the  challenge of predicting sunspot numbers accurately.\n",
        "\n",
        "Sunspot prediction poses several difficulties. Firstly, the sunspot phenomenon is complex and influenced by numerous factors, including solar activity, magnetic fields, and cyclical patterns. Additionally, the irregularity and nonlinearity of sunspot occurrences further complicate prediction efforts.\n",
        "\n",
        "\n",
        "The LSTM model, a deep learning-based approach known for its ability to capture complex temporal dependencies, exhibited slightly higher errors with an MAE of 11.63 and an RMSE of 15.82. Despite its capability to model sequential data effectively, LSTM struggled to accurately forecast sunspot numbers, indicating the challenges in predicting this phenomenon.\n",
        "\n",
        "On the other hand, the Prophet model, designed specifically for time series forecasting with built-in seasonality, produced an MAE of 43.56 and an RMSE of 49.77. While Prophet incorporates sophisticated algorithms for handling seasonality and trend changes, it too faced challenges in predicting the volatile nature of sunspot activity."
      ]
    }
  ],
  "metadata": {
    "accelerator": "GPU",
    "colab": {
      "gpuType": "T4",
      "machine_shape": "hm",
      "provenance": []
    },
    "kernelspec": {
      "display_name": "Python 3",
      "name": "python3"
    },
    "language_info": {
      "codemirror_mode": {
        "name": "ipython",
        "version": 3
      },
      "file_extension": ".py",
      "mimetype": "text/x-python",
      "name": "python",
      "nbconvert_exporter": "python",
      "pygments_lexer": "ipython3",
      "version": "3.11.4"
    }
  },
  "nbformat": 4,
  "nbformat_minor": 0
}
